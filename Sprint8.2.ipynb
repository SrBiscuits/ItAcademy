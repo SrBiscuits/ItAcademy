{
 "cells": [
  {
   "cell_type": "markdown",
   "id": "c364d40c",
   "metadata": {},
   "source": [
    "Nivell 1"
   ]
  },
  {
   "cell_type": "code",
   "execution_count": null,
   "id": "9b490a06",
   "metadata": {},
   "outputs": [],
   "source": [
    "#Script usado para importar la base de datos en power bi\n",
    "import pandas as pd\n",
    "import mysql.connector\n",
    "\n",
    "conn = mysql.connector.connect(\n",
    "    host='localhost',\n",
    "    user='root',\n",
    "    password='1234',\n",
    "    database='sprint4',\n",
    "    auth_plugin='mysql_native_password'\n",
    ")\n",
    "\n",
    "query=\"\"\"\n",
    "SELECT * FROM transactions_products \n",
    "\"\"\"\n",
    "transactions_products = pd.read_sql(query, conn)\n",
    "\n",
    "query=\"\"\"\n",
    "SELECT * FROM transaction\n",
    "\"\"\"\n",
    "transaction = pd.read_sql(query, conn)\n",
    "\n",
    "\n",
    "query=\"\"\"\n",
    "SELECT * FROM companies\n",
    "\"\"\"\n",
    "companies = pd.read_sql(query, conn)\n",
    "\n",
    "\n",
    "query=\"\"\"\n",
    "SELECT * FROM users\n",
    "\"\"\"\n",
    "users = pd.read_sql(query, conn)\n",
    "\n",
    "\n",
    "query=\"\"\"\n",
    "SELECT * FROM credit_cards\n",
    "\"\"\"\n",
    "credit_cards = pd.read_sql(query, conn)\n",
    "\n",
    "query=\"\"\"\n",
    "SELECT * FROM products\n",
    "\"\"\"\n",
    "products = pd.read_sql(query, conn)"
   ]
  },
  {
   "cell_type": "markdown",
   "id": "ce789cec",
   "metadata": {},
   "source": [
    "- Exercici 1 - Una variable numèrica."
   ]
  },
  {
   "cell_type": "code",
   "execution_count": null,
   "id": "022d76aa",
   "metadata": {},
   "outputs": [],
   "source": [
    "df = dataset.drop_duplicates()\n",
    "\n",
    "import seaborn as seab\n",
    "import matplotlib.pyplot as plt\n",
    "\n",
    "plt.figure(figsize=(10, 5))\n",
    "plt.tight_layout()\n",
    "seab.set_theme()\n",
    "seab.countplot(data=df, x='product_id',order=df[\"product_id\"].value_counts().index) \n",
    "plt.xlabel('ID Producto', fontsize=14)\n",
    "plt.ylabel(\"Cantidad vendida\", fontsize=14)\n",
    "plt.show()"
   ]
  },
  {
   "cell_type": "markdown",
   "id": "34b4c75b",
   "metadata": {},
   "source": [
    "- Exercici 2 - Dues variables numèriques."
   ]
  },
  {
   "cell_type": "code",
   "execution_count": null,
   "id": "70f8aaab",
   "metadata": {},
   "outputs": [],
   "source": [
    "df = dataset.drop_duplicates()\n",
    "\n",
    "import pandas as pd\n",
    "import seaborn as seab\n",
    "import matplotlib.pyplot as plt\n",
    "\n",
    "df_grouped = df.groupby('product_id', as_index=False).agg(\n",
    "    cantidad=('product_id', 'count'),\n",
    "    suma=('price', lambda x: x.count() * x.iloc[0])\n",
    ")\n",
    "\n",
    "df_grouped = df_grouped.sort_values(by='suma', ascending=False)\n",
    "\n",
    "seab.set_theme()\n",
    "plt.figure(figsize=(10, 5))\n",
    "ax = seab.barplot(data=df_grouped, x='product_id', y='suma', order=df_grouped['product_id'])\n",
    "plt.xlabel(\"ID del producto\", fontsize=14)\n",
    "plt.ylabel(\"Total\", fontsize=14)\n",
    "plt.tight_layout()\n",
    "plt.show()"
   ]
  },
  {
   "cell_type": "markdown",
   "id": "083a5089",
   "metadata": {},
   "source": [
    "- Exercici 3 - Una variable categòrica."
   ]
  },
  {
   "cell_type": "code",
   "execution_count": null,
   "id": "3b4a63f4",
   "metadata": {},
   "outputs": [],
   "source": [
    "df = dataset.drop_duplicates()\n",
    "\n",
    "import pandas as pd\n",
    "import matplotlib.pyplot as plt\n",
    "\n",
    "df_grouped = df.groupby(\"country\").size().reset_index(name=\"cantPais\")\n",
    "df_top = df_grouped.sort_values(by=\"cantPais\", ascending=False)\n",
    "\n",
    "plt.figure(figsize=(6,6))\n",
    "plt.pie(\n",
    "    df_top['cantPais'], \n",
    "    labels=df_top['country'].astype(str), \n",
    "    autopct='%1.1f%%', \n",
    "    startangle=45,\n",
    "    wedgeprops={'edgecolor': 'green'}\n",
    ")\n",
    "plt.axis('equal') \n",
    "plt.tight_layout()\n",
    "plt.show()"
   ]
  },
  {
   "cell_type": "markdown",
   "id": "42ff4724",
   "metadata": {},
   "source": [
    "- Exercici 4 - Una variable categòrica i una numèrica."
   ]
  },
  {
   "cell_type": "code",
   "execution_count": null,
   "id": "c3fa6e43",
   "metadata": {},
   "outputs": [],
   "source": [
    "df = dataset.drop_duplicates()\n",
    "\n",
    "import seaborn as seab\n",
    "import matplotlib.pyplot as plt\n",
    "\n",
    "plt.figure(figsize=(10,5))\n",
    "seab.set_theme()\n",
    "order = df.sort_values(by='amount', ascending=False)['company_id']\n",
    "plt.yscale(\"log\")\n",
    "plt.xticks(rotation=90) \n",
    "seab.barplot(data=df, x='company_id',y='amount',order=order) \n",
    "plt.tight_layout(pad=2)\n",
    "plt.xlabel('ID Compañia')\n",
    "plt.ylabel(\"Cantidad en dolares\")\n",
    "plt.show()"
   ]
  },
  {
   "cell_type": "markdown",
   "id": "64075e7a",
   "metadata": {},
   "source": [
    "- Exercici 5 - Dues variables categòriques."
   ]
  },
  {
   "cell_type": "code",
   "execution_count": null,
   "id": "95199855",
   "metadata": {},
   "outputs": [],
   "source": [
    "df = dataset.drop_duplicates()\n",
    "\n",
    "import pandas as pd\n",
    "import seaborn as seab\n",
    "import matplotlib.pyplot as plt\n",
    "\n",
    "seab.set_theme()\n",
    "plt.figure(figsize=(15, 8)) \n",
    "seab.countplot(data=df, x='country.1', hue='country',legend=1)\n",
    "plt.tight_layout(pad=2)\n",
    "plt.xlabel('País del usuario', fontsize=16)\n",
    "plt.ylabel(\"Cantidad\", fontsize=16)\n",
    "plt.show()"
   ]
  },
  {
   "cell_type": "markdown",
   "id": "34c3f3cb",
   "metadata": {},
   "source": [
    "- Exercici 6 - Tres variables."
   ]
  },
  {
   "cell_type": "code",
   "execution_count": null,
   "id": "88874826",
   "metadata": {},
   "outputs": [],
   "source": [
    "df = dataset.drop_duplicates()\n",
    "\n",
    "import pandas as pd\n",
    "import seaborn as seab\n",
    "import matplotlib.pyplot as plt\n",
    "\n",
    "seab.set_theme()\n",
    "plt.tight_layout()\n",
    "g=seab.catplot(data=df, x=\"country\", y=\"amount\", kind=\"swarm\",height=6, aspect=2)\n",
    "g.set_xticklabels(rotation=45)\n",
    "plt.ylabel(\"Total en dolares\", fontsize=14)\n",
    "plt.xlabel(\"País\", fontsize=14)\n",
    "plt.show()"
   ]
  },
  {
   "cell_type": "markdown",
   "id": "534dad41",
   "metadata": {},
   "source": [
    "- Exercici 7 - Graficar un Pairplot."
   ]
  },
  {
   "cell_type": "code",
   "execution_count": null,
   "id": "87e82e08",
   "metadata": {},
   "outputs": [],
   "source": [
    "df = dataset.drop_duplicates()\n",
    "\n",
    "import pandas as pd\n",
    "import seaborn as seab\n",
    "import matplotlib.pyplot as plt\n",
    "\n",
    "df = df.rename(columns={\n",
    "    'amount': 'Cantidad en dólares',\n",
    "    'product_id': 'Cantidad de productos'\n",
    "})\n",
    "plt.tight_layout(pad=2)\n",
    "seab.set_theme()\n",
    "g=seab.pairplot(df,size=4)\n",
    "for ax in g.axes.flatten():\n",
    "    ax.set_xlabel(ax.get_xlabel(), fontsize=16)\n",
    "    ax.set_ylabel(ax.get_ylabel(), fontsize=16)\n",
    "    ax.tick_params(axis='both', labelsize=10)\n",
    "plt.show()"
   ]
  },
  {
   "cell_type": "markdown",
   "id": "6d943145",
   "metadata": {},
   "source": [
    "Nivell 2"
   ]
  },
  {
   "cell_type": "markdown",
   "id": "fa07d36d",
   "metadata": {},
   "source": [
    "- Exercici 1 - Correlació de totes les variables numèriques."
   ]
  },
  {
   "cell_type": "code",
   "execution_count": null,
   "id": "ee964d12",
   "metadata": {},
   "outputs": [],
   "source": [
    "df = dataset.drop_duplicates()\n",
    "\n",
    "import pandas as pd\n",
    "import seaborn as seab\n",
    "import matplotlib.pyplot as plt\n",
    "df = df.rename(columns={\n",
    "    'amount': 'Cantidad en dólares',\n",
    "    'product_id': 'Cantidad de productos',\n",
    "    \"weight\" : \"Peso del producto\",\n",
    "    \"price\" : \"Precio del prodcto\"\n",
    "})\n",
    "seab.set_theme()\n",
    "g=seab.pairplot(df, height=4)\n",
    "for ax in g.axes.flatten():\n",
    "    ax.set_xlabel(ax.get_xlabel(), fontsize=18)\n",
    "    ax.set_ylabel(ax.get_ylabel(), fontsize=18)\n",
    "plt.show()"
   ]
  },
  {
   "cell_type": "markdown",
   "id": "3ae4db2a",
   "metadata": {},
   "source": [
    "- Exercici 2 - Implementa un jointplot"
   ]
  },
  {
   "cell_type": "code",
   "execution_count": null,
   "id": "73d4525f",
   "metadata": {},
   "outputs": [],
   "source": [
    "df = dataset.drop_duplicates()\n",
    "\n",
    "import pandas as pd\n",
    "import seaborn as seab\n",
    "import matplotlib.pyplot as plt\n",
    "\n",
    "df = df.rename(columns={\n",
    "    'amount': 'Cantidad en dólares',\n",
    "    'weight': 'Peso del producto'\n",
    "})\n",
    "seab.set_theme()\n",
    "g=seab.jointplot(data=df, x=\"Cantidad en dólares\", y=\"Peso del producto\") \n",
    "g.ax_joint.set_xlabel(\"Cantidad en dólares\", fontsize=16)\n",
    "g.ax_joint.set_ylabel(\"Peso del producto\", fontsize=16)\n",
    "plt.show()"
   ]
  },
  {
   "cell_type": "markdown",
   "id": "a0bea7a1",
   "metadata": {},
   "source": [
    "Nivell 3"
   ]
  },
  {
   "cell_type": "markdown",
   "id": "be3fba6c",
   "metadata": {},
   "source": [
    "- Exercici 1 - Implementa un violinplot combinat amb un altre tipus de gràfic."
   ]
  },
  {
   "cell_type": "code",
   "execution_count": null,
   "id": "0302941a",
   "metadata": {},
   "outputs": [],
   "source": [
    "df = dataset.drop_duplicates()\n",
    "\n",
    "import pandas as pd\n",
    "import seaborn as seab\n",
    "import matplotlib.pyplot as plt\n",
    "\n",
    "seab.set_theme()\n",
    "seab.violinplot(data=df, x=\"country\", y='amount', inner=None, color=\"lightgray\")\n",
    "seab.stripplot(data=df, x='country', y='amount', color='black', size=3, jitter=True)\n",
    "plt.tight_layout()\n",
    "plt.ylabel(\"Dolares\" , fontsize=13)\n",
    "plt.xlabel(\"País\", fontsize=13)\n",
    "plt.show()"
   ]
  },
  {
   "cell_type": "markdown",
   "id": "12d38ba1",
   "metadata": {},
   "source": [
    "- Exercici 2 - Genera un FacetGrid per a visualitzar múltiples aspectes de les dades simultàniament."
   ]
  },
  {
   "cell_type": "code",
   "execution_count": null,
   "id": "e5d95682",
   "metadata": {},
   "outputs": [],
   "source": [
    "df = dataset.drop_duplicates()\n",
    "\n",
    "import pandas as pd\n",
    "import seaborn as seab\n",
    "import matplotlib.pyplot as plt\n",
    "\n",
    "seab.set_theme()\n",
    "g = seab.FacetGrid(df, col='country', height=4, aspect=1.2)\n",
    "g.map_dataframe(seab.barplot, x='country.1', y=\"amount\")\n",
    "g.set_axis_labels(\"País de la empresa\", \"Cantidad en dólares\")\n",
    "g.set_xticklabels(rotation=90, fontsize=10) \n",
    "g.set_xticklabels(rotation=90)\n",
    "plt.tight_layout()\n",
    "plt.show()"
   ]
  }
 ],
 "metadata": {
  "kernelspec": {
   "display_name": "Python 3",
   "language": "python",
   "name": "python3"
  },
  "language_info": {
   "codemirror_mode": {
    "name": "ipython",
    "version": 3
   },
   "file_extension": ".py",
   "mimetype": "text/x-python",
   "name": "python",
   "nbconvert_exporter": "python",
   "pygments_lexer": "ipython3",
   "version": "3.13.2"
  }
 },
 "nbformat": 4,
 "nbformat_minor": 5
}
