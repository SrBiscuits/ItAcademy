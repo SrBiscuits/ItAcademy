{
 "cells": [
  {
   "cell_type": "markdown",
   "id": "2bd5c1fe",
   "metadata": {},
   "source": [
    "Nivell 1"
   ]
  },
  {
   "cell_type": "markdown",
   "id": "ce2edb42",
   "metadata": {},
   "source": [
    "- Exercici 1 - Calculadora de l'índex de massa corporal\n",
    "\n",
    "Escriu una funció que calculi l'IMC ingressat per l'usuari/ària, és a dir, qui ho executi haurà d'ingressar aquestes dades. Pots obtenir més informació del seu càlcul en:\n",
    "La funció ha de classificar el resultat en les seves respectives categories\n"
   ]
  },
  {
   "cell_type": "code",
   "execution_count": 2,
   "id": "6324f152",
   "metadata": {},
   "outputs": [
    {
     "name": "stdout",
     "output_type": "stream",
     "text": [
      "Tu imc de 19.90356006976506 es de peso normal\n"
     ]
    }
   ],
   "source": [
    "imc = 0\n",
    "\n",
    "\n",
    "def calculadoraIMC():\n",
    "    peso=float(input(\"Introduce tu peso: (en kilos)\"))\n",
    "    altura=float(input(\"Introduce tu altura: (en metros) \"))\n",
    "    imc = peso/(altura*altura)\n",
    "    if(imc<18.5):\n",
    "        print(f\"Tu imc de {imc} es de bajo peso\")\n",
    "    elif(imc<=24.9):\n",
    "        print(f\"Tu imc de {imc} es de peso normal\")\n",
    "    elif(imc<=30):\n",
    "        print(f\"Tu imc de {imc} es de sobrepeso\")\n",
    "    else:\n",
    "        print(f\"Tu imc de {imc} es de obesidad\")\n",
    "\n",
    "\n",
    "calculadoraIMC()\n"
   ]
  },
  {
   "cell_type": "markdown",
   "id": "0bcf6040",
   "metadata": {},
   "source": [
    "- Exercici 2 - Convertidor de temperatures.\n",
    "\n",
    "Existeixen diverses unitats de temperatura utilitzades en diferents contextos i regions. Les més comunes són Celsius (°C), Fahrenheit (°F) i Kelvin (K). També existeixen altres unitats com Rankine (°Ra) i Réaumur (°Re). Selecciona almenys 2 conversors, de tal manera que en introduir una temperatura retorni, com a mínim, dues conversions."
   ]
  },
  {
   "cell_type": "code",
   "execution_count": 6,
   "id": "1b749f16",
   "metadata": {},
   "outputs": [
    {
     "name": "stdout",
     "output_type": "stream",
     "text": [
      "Grados Fahrenheit:  93.2\n",
      "Grados Kelvin:  307.15\n",
      "Grados Réaumur:  27.2\n",
      "Grados Rankine:  552.87\n"
     ]
    }
   ],
   "source": [
    "def calculadoraTempe():\n",
    "    celsius=float(input(\"Introduce la teperatura en grados celcius: \"))\n",
    "    print(\"Grados Fahrenheit: \" , round((celsius*(9/5))+32 , 2))\n",
    "    print(\"Grados Kelvin: \" , round(celsius+273.15 , 2))\n",
    "    print(\"Grados Réaumur: \" , round(celsius*(4/5) , 2))\n",
    "    print(\"Grados Rankine: \" , round((celsius+273.15)*(9/5) , 2))\n",
    "\n",
    "calculadoraTempe()"
   ]
  },
  {
   "cell_type": "markdown",
   "id": "a0c96a37",
   "metadata": {},
   "source": [
    "- Exercici 3 - Comptador de paraules d'un text.\n",
    "\n",
    "Escriu una funció que donat un text, mostri les vegades que apareix cada paraula."
   ]
  },
  {
   "cell_type": "code",
   "execution_count": null,
   "id": "f3b1e879",
   "metadata": {},
   "outputs": [
    {
     "name": "stdout",
     "output_type": "stream",
     "text": [
      "{'a': 1, 'jose': 1, 'maria': 2}\n"
     ]
    }
   ],
   "source": [
    "import re\n",
    "import pprint\n",
    "\n",
    "def parse_text():\n",
    "    text = input(\"Introdueix una paraula: \")\n",
    "    text = re.sub(r\"[!,\\.\\)\\(¡]\", \"\", text)\n",
    "    text = text.lower()\n",
    "    text = text.split()\n",
    "    return text\n",
    "\n",
    "def contadorParaules():\n",
    "    text=parse_text()\n",
    "    contador={}\n",
    "\n",
    "    for x in (text):\n",
    "        if(contador.get(x) is None):\n",
    "            contador[x]=1\n",
    "        else:\n",
    "            contador[x]+=1\n",
    "    pprint.pprint(contador)\n",
    "\n",
    "contadorParaules()"
   ]
  },
  {
   "cell_type": "markdown",
   "id": "e901c304",
   "metadata": {},
   "source": [
    "- Exercici 4 - Diccionari invers.\n",
    "\n",
    "Resulta que el client té una enquesta molt antiga que s'emmagatzema en un diccionari i els resultats els necessita al revés, és a dir, intercanviats les claus i els valors. Els valors i claus en el diccionari original són únics; si aquest no és el cas, la funció hauria d'imprimir un missatge d'advertiment."
   ]
  },
  {
   "cell_type": "code",
   "execution_count": 25,
   "id": "792f52d5",
   "metadata": {},
   "outputs": [
    {
     "name": "stdout",
     "output_type": "stream",
     "text": [
      "{1: 'a', 2: 'b', 3: 'c'}\n",
      "Error: multiple keys for one value\n"
     ]
    }
   ],
   "source": [
    "reverse_dictionary1={'a':1,'b':2,'c':3}\n",
    "reverse_dictionary2={'x':\"apple\",'y':\"banana\",'z':\"banana\"}\n",
    "\n",
    "def reverseDictionarys(dictionary):\n",
    "    tempDictionary={}\n",
    "    for x in dictionary: \n",
    "        if(tempDictionary.get(dictionary[x]) is None):\n",
    "            tempDictionary[dictionary[x]]=x\n",
    "        else:\n",
    "             print(\"Error: multiple keys for one value\")\n",
    "             return\n",
    "    dictionary.clear()\n",
    "    print(tempDictionary)\n",
    "\n",
    "reverseDictionarys(reverse_dictionary1)\n",
    "reverseDictionarys(reverse_dictionary2)\n"
   ]
  },
  {
   "cell_type": "markdown",
   "id": "d6b80a10",
   "metadata": {},
   "source": [
    "Nivell 2"
   ]
  },
  {
   "cell_type": "markdown",
   "id": "7a820a6d",
   "metadata": {},
   "source": [
    "- Exercici 1 - Diccionari invers amb duplicats\n",
    "\n",
    "Continuant amb l'exercici 4 del nivell 1: al client es va oblidar de comentar un detall i resulta que els valors en el diccionari original poden duplicar-se i més, per la qual cosa les claus intercanviades poden tenir duplicats. En aquest cas, en l'exercici anterior imprimies un missatge d'advertiment, ara, els valors del diccionari resultant hauran d'emmagatzemar-se com una llista. Tingues en compte que si és un valor únic no ha de ser una llista."
   ]
  },
  {
   "cell_type": "code",
   "execution_count": null,
   "id": "844a2bda",
   "metadata": {},
   "outputs": [
    {
     "name": "stdout",
     "output_type": "stream",
     "text": [
      "{1: 'a', 2: 'b', 3: 'c'}\n",
      "{'apple': ['x', 'ss'], 'banana': ['y', 'z', 'dd']}\n"
     ]
    }
   ],
   "source": [
    "reverse_dictionary1={'a':1,'b':2,'c':3}\n",
    "reverse_dictionary2={'x':\"apple\",'y':\"banana\",'z':\"banana\",\"dd\":\"banana\",\"ss\":\"apple\"}\n",
    "\n",
    "def reverseDictionarys(dictionary):\n",
    "    tempDictionary={}\n",
    "    tempList=[]\n",
    "    for x in dictionary: \n",
    "        if(tempDictionary.get(dictionary[x]) is None):\n",
    "            tempDictionary[dictionary[x]]=x\n",
    "        else:\n",
    "            if type(tempDictionary[dictionary[x]])==list:\n",
    "                 tempDictionary[dictionary[x]].append(x)\n",
    "            else:\n",
    "                tempList.append(tempDictionary[dictionary[x]])\n",
    "                tempList.append(x)\n",
    "                tempDictionary[dictionary[x]]=tempList.copy()\n",
    "                tempList.clear()\n",
    "    print(tempDictionary)\n",
    "        \n",
    "\n",
    "\n",
    "reverseDictionarys(reverse_dictionary1)\n",
    "reverseDictionarys(reverse_dictionary2)"
   ]
  },
  {
   "cell_type": "markdown",
   "id": "2cac88d7",
   "metadata": {},
   "source": [
    "- Exercici 2 - Conversió de tipus de dades\n",
    "\n",
    "El client rep una llista de dades i necessita generar dues llistes, la primera on estaran tots els elements que es van poder convertir en flotants i l'altra on estan els elements que no es van poder convertir. Exemple de la llista que rep el client: [ '1.3', 'one' , '1e10' , 'seven', '3-1/2', ('2',1,1.4,'not-a-number'), [1,2,'3','3.4']]"
   ]
  },
  {
   "cell_type": "code",
   "execution_count": 33,
   "id": "97204c50",
   "metadata": {},
   "outputs": [
    {
     "name": "stdout",
     "output_type": "stream",
     "text": [
      "[1.3, 10000000000.0, 2.0, 1.0, 1.4, 1.0, 2.0, 3.0, 3.4]\n",
      "['one', 'seven', '3-1/2', 'not-a-number']\n"
     ]
    }
   ],
   "source": [
    "clientList = [ '1.3', 'one', '1e10' , 'seven', '3-1/2', ('2',1,1.4,'not-a-number'), [1,2,'3','3.4']]\n",
    "\n",
    "def convertError(value):\n",
    "    try:\n",
    "        float(value)\n",
    "        return False\n",
    "    except:\n",
    "        return True\n",
    "\n",
    "\n",
    "def toFloatConverter(client_list):\n",
    "    canConvert=[]\n",
    "    cantConvert=[]\n",
    "    for x in client_list:\n",
    "        if(convertError(x)):\n",
    "            if(type(x)==tuple or type(x)==list):\n",
    "                for y in x:\n",
    "                    if(convertError(y)):\n",
    "                        cantConvert.append(y)\n",
    "                    else:\n",
    "                        canConvert.append(float(y))\n",
    "            else:\n",
    "                cantConvert.append(x)\n",
    "        else:\n",
    "            canConvert.append(float(x))\n",
    "    print(canConvert)\n",
    "    print(cantConvert)\n",
    "\n",
    "\n",
    "toFloatConverter(clientList)"
   ]
  },
  {
   "cell_type": "markdown",
   "id": "caabb35a",
   "metadata": {},
   "source": [
    "Nivell 3"
   ]
  },
  {
   "cell_type": "markdown",
   "id": "3d24e929",
   "metadata": {},
   "source": [
    "- Exercici 1 - Comptador i endreçador de paraules d'un text.\n",
    "\n",
    "El client va quedar content amb el comptador de paraules, però ara vol llegir arxius TXT i que calculi la freqüència de cada paraula ordenades dins de les entrades habituals del diccionari segons la lletra amb la qual comencen, és a dir, les claus han d'anar de la A a la Z i dins de la A hem d'anar de la A la Z. Per exemple, per a l'arxiu \"tu_me_quieres_blanca.txt\" la sortida esperada seria:"
   ]
  },
  {
   "cell_type": "code",
   "execution_count": 10,
   "id": "60e2bcbe",
   "metadata": {},
   "outputs": [
    {
     "name": "stdout",
     "output_type": "stream",
     "text": [
      "Letra: a\n",
      "' a: 3'\n",
      "' agua:: 1'\n",
      "' al: 2'\n",
      "' alba: 4'\n",
      "' alcobas: 1'\n",
      "' alimenta: 1'\n",
      "' alma: 1'\n",
      "' amarga;: 1'\n",
      "' azucena: 1'\n",
      "\n",
      "Letra: b\n",
      "' baco: 1'\n",
      "' banquete: 1'\n",
      "' bebe: 1'\n",
      "' blanca: 3'\n",
      "' boca;: 1'\n",
      "' bosques: 1'\n",
      "' buen: 1'\n",
      "\n",
      "Letra: c\n",
      "' cabañas;: 1'\n",
      "' carnes: 2'\n",
      "' casta: 3'\n",
      "' cerrada: 1'\n",
      "' con: 4'\n",
      "' conservas: 1'\n",
      "' copas: 1'\n",
      "' corola: 1'\n",
      "' corriste: 1'\n",
      "' cuando: 2'\n",
      "' cubierto: 1'\n",
      "' cuerpo: 1'\n",
      "' cuáles: 1'\n",
      "\n",
      "Letra: d\n",
      "' de: 8'\n",
      "' dejaste: 1'\n",
      "' del: 1'\n",
      "' diga: 1'\n",
      "' dios: 2'\n",
      "' duerme: 1'\n",
      "\n",
      "Letra: e\n",
      "' el: 4'\n",
      "' ellas: 1'\n",
      "' en: 4'\n",
      "' engaño: 1'\n",
      "' enredada: 1'\n",
      "' entonces: 1'\n",
      "' escarcha;: 1'\n",
      "' espumas: 1'\n",
      "' esqueleto: 1'\n",
      "' estrago: 1'\n",
      "\n",
      "Letra: f\n",
      "' festejando: 1'\n",
      "' filtrado: 1'\n",
      "' frutos: 1'\n",
      "\n",
      "Letra: h\n",
      "' habla: 1'\n",
      "' hacia: 1'\n",
      "' haya: 1'\n",
      "' hayas: 1'\n",
      "' hermana: 1'\n",
      "' hombre: 1'\n",
      "' hubiste: 1'\n",
      "' huye: 1'\n",
      "\n",
      "Letra: i\n",
      "' intacto: 1'\n",
      "\n",
      "Letra: j\n",
      "' jardines: 1'\n",
      "\n",
      "Letra: l\n",
      "' la: 3'\n",
      "' labios: 1'\n",
      "' las: 7'\n",
      "' lo: 2'\n",
      "' los: 4'\n",
      "' luna: 1'\n",
      "' lévate: 1'\n",
      "' límpiate: 1'\n",
      "\n",
      "Letra: m\n",
      "' mano: 1'\n",
      "' manos: 1'\n",
      "' margarita: 1'\n",
      "' me: 10'\n",
      "' mi: 1'\n",
      "' mieles: 1'\n",
      "' milagros: 1'\n",
      "' mojada;: 1'\n",
      "' montaña;: 1'\n",
      "' morados: 1'\n",
      "\n",
      "Letra: n\n",
      "' negros: 1'\n",
      "' ni: 2'\n",
      "' no: 1'\n",
      "' nácar: 1'\n",
      "' nívea: 2'\n",
      "\n",
      "Letra: p\n",
      "' perdone: 2'\n",
      "' perfume: 1'\n",
      "' por: 2'\n",
      "' pretendes: 3'\n",
      "' preténdeme: 3'\n",
      "' puesto: 1'\n",
      "' pájaros: 1'\n",
      "' pámpanos: 1'\n",
      "\n",
      "Letra: q\n",
      "' que: 6'\n",
      "' quedó: 1'\n",
      "' quieres: 6'\n",
      "\n",
      "Letra: r\n",
      "' rayo: 1'\n",
      "' raíz: 1'\n",
      "' renueva: 1'\n",
      "' rocas;: 1'\n",
      "' rojo: 1'\n",
      "\n",
      "Letra: s\n",
      "' salitre: 1'\n",
      "' se: 2'\n",
      "' sea: 1'\n",
      "' sean: 1'\n",
      "' sobre: 2'\n",
      "' sé: 1'\n",
      "\n",
      "Letra: t\n",
      "' te: 3'\n",
      "' tejidos: 1'\n",
      "' tenue: 1'\n",
      "' tierra: 1'\n",
      "' toca: 1'\n",
      "' todas: 2'\n",
      "' todavía: 1'\n",
      "' tornadas: 1'\n",
      "' tú: 8'\n",
      "\n",
      "Letra: u\n",
      "' un: 1'\n",
      "' una: 1'\n",
      "\n",
      "Letra: v\n",
      "' vestido: 1'\n",
      "' vete: 1'\n",
      "' vive: 1'\n",
      "\n",
      "Letra: y\n",
      "' y: 5'\n",
      "\n"
     ]
    }
   ],
   "source": [
    "import re\n",
    "import pprint\n",
    "\n",
    "with open('tu_me_quieres_blanca.txt', 'r', encoding='utf-8') as f:\n",
    "    texto = f.read()\n",
    "\n",
    "\n",
    "def contadorEndreçador(texto):\n",
    "    texto = re.sub(r\"[!,\\.\\)\\(¡]\", \"\", texto)\n",
    "    texto = texto.lower()\n",
    "    palabras=texto.split()\n",
    "\n",
    "    dictionary={}\n",
    "\n",
    "    for x in palabras:\n",
    "        letra=x[0]\n",
    "        if(letra not in dictionary):\n",
    "            dictionary[letra]={}\n",
    "        if(x not in dictionary[letra]):\n",
    "            dictionary[letra][x]=1\n",
    "        else:\n",
    "            dictionary[letra][x]+=1\n",
    "\n",
    "    dictionary = {\n",
    "        letra: dict(sorted(palabras.items()))\n",
    "        for letra, palabras in sorted(dictionary.items())\n",
    "    }\n",
    "\n",
    "    for letra, palabras in dictionary.items():\n",
    "        print(f\"Letra: {letra}\")\n",
    "        for palabra, cuenta in palabras.items():\n",
    "            pprint.pprint(f\" {palabra}: {cuenta}\")\n",
    "        print()\n",
    "\n",
    "\n",
    "contadorEndreçador(texto)"
   ]
  }
 ],
 "metadata": {
  "kernelspec": {
   "display_name": "Python 3",
   "language": "python",
   "name": "python3"
  },
  "language_info": {
   "codemirror_mode": {
    "name": "ipython",
    "version": 3
   },
   "file_extension": ".py",
   "mimetype": "text/x-python",
   "name": "python",
   "nbconvert_exporter": "python",
   "pygments_lexer": "ipython3",
   "version": "3.13.2"
  }
 },
 "nbformat": 4,
 "nbformat_minor": 5
}
