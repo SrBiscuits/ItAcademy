{
 "cells": [
  {
   "cell_type": "code",
   "execution_count": null,
   "id": "34051dfa",
   "metadata": {},
   "outputs": [],
   "source": [
    "import pandas as pd\n",
    "import matplotlib.pyplot as plt\n",
    "import seaborn as seab\n",
    "import mysql.connector\n",
    "from mysql.connector import Error\n",
    "\n",
    "conn = mysql.connector.connect(\n",
    "    host='localhost',\n",
    "    user='root',\n",
    "    password='1234',\n",
    "    database='sprint4',\n",
    "    auth_plugin='mysql_native_password'\n",
    ")\n",
    "\n",
    "cursor = conn.cursor()\n",
    "\n",
    "print(\"Conecció entre pupyter y mysql\")"
   ]
  },
  {
   "cell_type": "code",
   "execution_count": null,
   "id": "b19578e1",
   "metadata": {},
   "outputs": [],
   "source": [
    "query=\"\"\"\n",
    "SELECT * FROM transactions_products \n",
    "JOIN transaction on id = transaction_id \n",
    "WHERE declined=0\n",
    "\"\"\""
   ]
  }
 ],
 "metadata": {
  "kernelspec": {
   "display_name": "Python 3",
   "language": "python",
   "name": "python3"
  },
  "language_info": {
   "name": "python",
   "version": "3.13.2"
  }
 },
 "nbformat": 4,
 "nbformat_minor": 5
}
